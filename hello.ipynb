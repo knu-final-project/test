{
 "cells": [
  {
   "cell_type": "code",
   "execution_count": 1,
   "metadata": {},
   "outputs": [],
   "source": [
    "# 포크로 올려보겠어요"
   ]
  },
  {
   "cell_type": "code",
   "execution_count": 2,
   "metadata": {},
   "outputs": [
    {
     "name": "stdout",
     "output_type": "stream",
     "text": [
      "조 이름 무엇으로 하지?\n"
     ]
    }
   ],
   "source": [
    "print('조 이름 무엇으로 하지?')"
   ]
  },
  {
   "cell_type": "code",
   "execution_count": 1,
   "metadata": {},
   "outputs": [
    {
     "name": "stdout",
     "output_type": "stream",
     "text": [
      " Pull Request 사용하지마!!!\n"
     ]
    }
   ],
   "source": [
    "print(' Pull Request 사용하지마!!!')"
   ]
  },
  {
   "cell_type": "code",
   "execution_count": null,
   "metadata": {},
   "outputs": [],
   "source": [
    "print(\"사용해야겠구만!!!!\")"
   ]
  }
 ],
 "metadata": {
  "interpreter": {
   "hash": "687f176bdc4609cc8d5b39e000eea4614a72e7f02008d2ba6f20b50b41165f30"
  },
  "kernelspec": {
   "display_name": "Python 3.8.12 ('conda38')",
   "language": "python",
   "name": "python3"
  },
  "language_info": {
   "codemirror_mode": {
    "name": "ipython",
    "version": 3
   },
   "file_extension": ".py",
   "mimetype": "text/x-python",
   "name": "python",
   "nbconvert_exporter": "python",
   "pygments_lexer": "ipython3",
   "version": "3.8.12"
  },
  "orig_nbformat": 4
 },
 "nbformat": 4,
 "nbformat_minor": 2
}
