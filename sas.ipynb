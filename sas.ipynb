{
 "cells": [
  {
   "cell_type": "code",
   "execution_count": 2,
   "metadata": {},
   "outputs": [
    {
     "name": "stdout",
     "output_type": "stream",
     "text": [
      "Collecting pandas\n",
      "  Downloading pandas-1.4.2-cp310-cp310-win_amd64.whl (10.6 MB)\n",
      "     ---------------------------------------- 10.6/10.6 MB 3.7 MB/s eta 0:00:00\n",
      "Requirement already satisfied: python-dateutil>=2.8.1 in c:\\users\\user\\appdata\\local\\programs\\python\\python310\\lib\\site-packages (from pandas) (2.8.2)\n",
      "Collecting numpy>=1.21.0\n",
      "  Downloading numpy-1.22.3-cp310-cp310-win_amd64.whl (14.7 MB)\n",
      "     ---------------------------------------- 14.7/14.7 MB 1.9 MB/s eta 0:00:00\n",
      "Collecting pytz>=2020.1\n",
      "  Downloading pytz-2022.1-py2.py3-none-any.whl (503 kB)\n",
      "     -------------------------------------- 503.5/503.5 KB 2.3 MB/s eta 0:00:00\n",
      "Requirement already satisfied: six>=1.5 in c:\\users\\user\\appdata\\local\\programs\\python\\python310\\lib\\site-packages (from python-dateutil>=2.8.1->pandas) (1.16.0)\n",
      "Installing collected packages: pytz, numpy, pandas\n",
      "Successfully installed numpy-1.22.3 pandas-1.4.2 pytz-2022.1\n"
     ]
    }
   ],
   "source": [
    "!pip install pandas\n",
    "\n",
    "import pandas as pd\n"
   ]
  },
  {
   "cell_type": "code",
   "execution_count": 3,
   "metadata": {},
   "outputs": [
    {
     "ename": "FileNotFoundError",
     "evalue": "[Errno 2] No such file or directory: 'data/hn20_all.sas7bdat'",
     "output_type": "error",
     "traceback": [
      "\u001b[1;31m---------------------------------------------------------------------------\u001b[0m",
      "\u001b[1;31mFileNotFoundError\u001b[0m                         Traceback (most recent call last)",
      "\u001b[1;32mc:\\Users\\User\\Desktop\\test\\sas.ipynb Cell 2'\u001b[0m in \u001b[0;36m<cell line: 1>\u001b[1;34m()\u001b[0m\n\u001b[1;32m----> <a href='vscode-notebook-cell:/c%3A/Users/User/Desktop/test/sas.ipynb#ch0000001?line=0'>1</a>\u001b[0m pd_sas \u001b[39m=\u001b[39m pd\u001b[39m.\u001b[39;49mread_sas(\u001b[39m'\u001b[39;49m\u001b[39mdata/hn20_all.sas7bdat\u001b[39;49m\u001b[39m'\u001b[39;49m, \u001b[39mformat\u001b[39;49m\u001b[39m=\u001b[39;49m\u001b[39m'\u001b[39;49m\u001b[39msas7bdat\u001b[39;49m\u001b[39m'\u001b[39;49m)\n",
      "File \u001b[1;32m~\\AppData\\Local\\Programs\\Python\\Python310\\lib\\site-packages\\pandas\\io\\sas\\sasreader.py:145\u001b[0m, in \u001b[0;36mread_sas\u001b[1;34m(filepath_or_buffer, format, index, encoding, chunksize, iterator)\u001b[0m\n\u001b[0;32m    <a href='file:///c%3A/Users/User/AppData/Local/Programs/Python/Python310/lib/site-packages/pandas/io/sas/sasreader.py?line=141'>142</a>\u001b[0m \u001b[39melif\u001b[39;00m \u001b[39mformat\u001b[39m\u001b[39m.\u001b[39mlower() \u001b[39m==\u001b[39m \u001b[39m\"\u001b[39m\u001b[39msas7bdat\u001b[39m\u001b[39m\"\u001b[39m:\n\u001b[0;32m    <a href='file:///c%3A/Users/User/AppData/Local/Programs/Python/Python310/lib/site-packages/pandas/io/sas/sasreader.py?line=142'>143</a>\u001b[0m     \u001b[39mfrom\u001b[39;00m \u001b[39mpandas\u001b[39;00m\u001b[39m.\u001b[39;00m\u001b[39mio\u001b[39;00m\u001b[39m.\u001b[39;00m\u001b[39msas\u001b[39;00m\u001b[39m.\u001b[39;00m\u001b[39msas7bdat\u001b[39;00m \u001b[39mimport\u001b[39;00m SAS7BDATReader\n\u001b[1;32m--> <a href='file:///c%3A/Users/User/AppData/Local/Programs/Python/Python310/lib/site-packages/pandas/io/sas/sasreader.py?line=144'>145</a>\u001b[0m     reader \u001b[39m=\u001b[39m SAS7BDATReader(\n\u001b[0;32m    <a href='file:///c%3A/Users/User/AppData/Local/Programs/Python/Python310/lib/site-packages/pandas/io/sas/sasreader.py?line=145'>146</a>\u001b[0m         filepath_or_buffer,\n\u001b[0;32m    <a href='file:///c%3A/Users/User/AppData/Local/Programs/Python/Python310/lib/site-packages/pandas/io/sas/sasreader.py?line=146'>147</a>\u001b[0m         index\u001b[39m=\u001b[39;49mindex,\n\u001b[0;32m    <a href='file:///c%3A/Users/User/AppData/Local/Programs/Python/Python310/lib/site-packages/pandas/io/sas/sasreader.py?line=147'>148</a>\u001b[0m         encoding\u001b[39m=\u001b[39;49mencoding,\n\u001b[0;32m    <a href='file:///c%3A/Users/User/AppData/Local/Programs/Python/Python310/lib/site-packages/pandas/io/sas/sasreader.py?line=148'>149</a>\u001b[0m         chunksize\u001b[39m=\u001b[39;49mchunksize,\n\u001b[0;32m    <a href='file:///c%3A/Users/User/AppData/Local/Programs/Python/Python310/lib/site-packages/pandas/io/sas/sasreader.py?line=149'>150</a>\u001b[0m     )\n\u001b[0;32m    <a href='file:///c%3A/Users/User/AppData/Local/Programs/Python/Python310/lib/site-packages/pandas/io/sas/sasreader.py?line=150'>151</a>\u001b[0m \u001b[39melse\u001b[39;00m:\n\u001b[0;32m    <a href='file:///c%3A/Users/User/AppData/Local/Programs/Python/Python310/lib/site-packages/pandas/io/sas/sasreader.py?line=151'>152</a>\u001b[0m     \u001b[39mraise\u001b[39;00m \u001b[39mValueError\u001b[39;00m(\u001b[39m\"\u001b[39m\u001b[39munknown SAS format\u001b[39m\u001b[39m\"\u001b[39m)\n",
      "File \u001b[1;32m~\\AppData\\Local\\Programs\\Python\\Python310\\lib\\site-packages\\pandas\\io\\sas\\sas7bdat.py:198\u001b[0m, in \u001b[0;36mSAS7BDATReader.__init__\u001b[1;34m(self, path_or_buf, index, convert_dates, blank_missing, chunksize, encoding, convert_text, convert_header_text)\u001b[0m\n\u001b[0;32m    <a href='file:///c%3A/Users/User/AppData/Local/Programs/Python/Python310/lib/site-packages/pandas/io/sas/sas7bdat.py?line=194'>195</a>\u001b[0m \u001b[39mself\u001b[39m\u001b[39m.\u001b[39m_current_row_on_page_index \u001b[39m=\u001b[39m \u001b[39m0\u001b[39m\n\u001b[0;32m    <a href='file:///c%3A/Users/User/AppData/Local/Programs/Python/Python310/lib/site-packages/pandas/io/sas/sas7bdat.py?line=195'>196</a>\u001b[0m \u001b[39mself\u001b[39m\u001b[39m.\u001b[39m_current_row_in_file_index \u001b[39m=\u001b[39m \u001b[39m0\u001b[39m\n\u001b[1;32m--> <a href='file:///c%3A/Users/User/AppData/Local/Programs/Python/Python310/lib/site-packages/pandas/io/sas/sas7bdat.py?line=197'>198</a>\u001b[0m \u001b[39mself\u001b[39m\u001b[39m.\u001b[39mhandles \u001b[39m=\u001b[39m get_handle(path_or_buf, \u001b[39m\"\u001b[39;49m\u001b[39mrb\u001b[39;49m\u001b[39m\"\u001b[39;49m, is_text\u001b[39m=\u001b[39;49m\u001b[39mFalse\u001b[39;49;00m)\n\u001b[0;32m    <a href='file:///c%3A/Users/User/AppData/Local/Programs/Python/Python310/lib/site-packages/pandas/io/sas/sas7bdat.py?line=199'>200</a>\u001b[0m \u001b[39mself\u001b[39m\u001b[39m.\u001b[39m_path_or_buf \u001b[39m=\u001b[39m \u001b[39mself\u001b[39m\u001b[39m.\u001b[39mhandles\u001b[39m.\u001b[39mhandle\n\u001b[0;32m    <a href='file:///c%3A/Users/User/AppData/Local/Programs/Python/Python310/lib/site-packages/pandas/io/sas/sas7bdat.py?line=201'>202</a>\u001b[0m \u001b[39mtry\u001b[39;00m:\n",
      "File \u001b[1;32m~\\AppData\\Local\\Programs\\Python\\Python310\\lib\\site-packages\\pandas\\io\\common.py:798\u001b[0m, in \u001b[0;36mget_handle\u001b[1;34m(path_or_buf, mode, encoding, compression, memory_map, is_text, errors, storage_options)\u001b[0m\n\u001b[0;32m    <a href='file:///c%3A/Users/User/AppData/Local/Programs/Python/Python310/lib/site-packages/pandas/io/common.py?line=788'>789</a>\u001b[0m         handle \u001b[39m=\u001b[39m \u001b[39mopen\u001b[39m(\n\u001b[0;32m    <a href='file:///c%3A/Users/User/AppData/Local/Programs/Python/Python310/lib/site-packages/pandas/io/common.py?line=789'>790</a>\u001b[0m             handle,\n\u001b[0;32m    <a href='file:///c%3A/Users/User/AppData/Local/Programs/Python/Python310/lib/site-packages/pandas/io/common.py?line=790'>791</a>\u001b[0m             ioargs\u001b[39m.\u001b[39mmode,\n\u001b[1;32m   (...)\u001b[0m\n\u001b[0;32m    <a href='file:///c%3A/Users/User/AppData/Local/Programs/Python/Python310/lib/site-packages/pandas/io/common.py?line=793'>794</a>\u001b[0m             newline\u001b[39m=\u001b[39m\u001b[39m\"\u001b[39m\u001b[39m\"\u001b[39m,\n\u001b[0;32m    <a href='file:///c%3A/Users/User/AppData/Local/Programs/Python/Python310/lib/site-packages/pandas/io/common.py?line=794'>795</a>\u001b[0m         )\n\u001b[0;32m    <a href='file:///c%3A/Users/User/AppData/Local/Programs/Python/Python310/lib/site-packages/pandas/io/common.py?line=795'>796</a>\u001b[0m     \u001b[39melse\u001b[39;00m:\n\u001b[0;32m    <a href='file:///c%3A/Users/User/AppData/Local/Programs/Python/Python310/lib/site-packages/pandas/io/common.py?line=796'>797</a>\u001b[0m         \u001b[39m# Binary mode\u001b[39;00m\n\u001b[1;32m--> <a href='file:///c%3A/Users/User/AppData/Local/Programs/Python/Python310/lib/site-packages/pandas/io/common.py?line=797'>798</a>\u001b[0m         handle \u001b[39m=\u001b[39m \u001b[39mopen\u001b[39;49m(handle, ioargs\u001b[39m.\u001b[39;49mmode)\n\u001b[0;32m    <a href='file:///c%3A/Users/User/AppData/Local/Programs/Python/Python310/lib/site-packages/pandas/io/common.py?line=798'>799</a>\u001b[0m     handles\u001b[39m.\u001b[39mappend(handle)\n\u001b[0;32m    <a href='file:///c%3A/Users/User/AppData/Local/Programs/Python/Python310/lib/site-packages/pandas/io/common.py?line=800'>801</a>\u001b[0m \u001b[39m# Convert BytesIO or file objects passed with an encoding\u001b[39;00m\n",
      "\u001b[1;31mFileNotFoundError\u001b[0m: [Errno 2] No such file or directory: 'data/hn20_all.sas7bdat'"
     ]
    }
   ],
   "source": [
    "pd_sas = pd.read_sas('data/hn20_all.sas7bdat', format='sas7bdat')"
   ]
  }
 ],
 "metadata": {
  "interpreter": {
   "hash": "aecd030d4c8316a52bf122072e28f84bcc79844c2684e041fef2e3f1d9f59078"
  },
  "kernelspec": {
   "display_name": "Python 3.10.4 64-bit",
   "language": "python",
   "name": "python3"
  },
  "language_info": {
   "codemirror_mode": {
    "name": "ipython",
    "version": 3
   },
   "file_extension": ".py",
   "mimetype": "text/x-python",
   "name": "python",
   "nbconvert_exporter": "python",
   "pygments_lexer": "ipython3",
   "version": "3.10.4"
  },
  "orig_nbformat": 4
 },
 "nbformat": 4,
 "nbformat_minor": 2
}
